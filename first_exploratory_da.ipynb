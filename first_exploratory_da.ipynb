{
  "nbformat": 4,
  "nbformat_minor": 0,
  "metadata": {
    "colab": {
      "provenance": [],
      "mount_file_id": "1B3Vtb_GzacoOw8OJZkys-CyglvPNTBKm",
      "authorship_tag": "ABX9TyObhpnR+F18tTV5Ul1Vp5xx",
      "include_colab_link": true
    },
    "kernelspec": {
      "name": "python3",
      "display_name": "Python 3"
    },
    "language_info": {
      "name": "python"
    }
  },
  "cells": [
    {
      "cell_type": "markdown",
      "metadata": {
        "id": "view-in-github",
        "colab_type": "text"
      },
      "source": [
        "<a href=\"https://colab.research.google.com/github/kauafabricio/data-analysis-projects/blob/main/first_exploratory_da.ipynb\" target=\"_parent\"><img src=\"https://colab.research.google.com/assets/colab-badge.svg\" alt=\"Open In Colab\"/></a>"
      ]
    },
    {
      "cell_type": "code",
      "source": [
        "# Esta é minha primeira Análise de Dados Exploratória com Pandas"
      ],
      "metadata": {
        "id": "c0PT5RPC_a1f"
      },
      "execution_count": null,
      "outputs": []
    },
    {
      "cell_type": "code",
      "execution_count": null,
      "metadata": {
        "id": "lYyRpUOOpY-E"
      },
      "outputs": [],
      "source": [
        "import pandas as pd\n",
        "import matplotlib.pyplot as plt\n",
        "\n",
        "df = pd.read_csv('Sleep_health_and_lifestyle_dataset.csv', encoding='utf-8',\n",
        "                 index_col= 0)\n",
        "df.tail()"
      ]
    },
    {
      "cell_type": "code",
      "source": [
        "# Insights por idade\n",
        "# Qual a média exploratória de pessoas com menos de 30 anos e com mais de 30?\n",
        "\n",
        "peoplemenos30 = df.loc[df['Age'] < 30, ['Sleep Duration', 'Quality of Sleep',\n",
        "                        'Physical Activity Level', 'Stress Level',\n",
        "                        'Heart Rate']]\n",
        "media_menor_30 = peoplemenos30.mean()\n",
        "\n",
        "peoplemais30 = df.loc[df['Age'] > 30, ['Sleep Duration', 'Quality of Sleep',\n",
        "                        'Physical Activity Level', 'Stress Level',\n",
        "                        'Heart Rate']]\n",
        "media_maior_30 = peoplemais30.mean()\n",
        "media_df = pd.DataFrame({'Menos de 30': media_menor_30,\n",
        "                         'Mais de 30': media_maior_30})\n",
        "media_df.plot(kind='barh', figsize=(10, 7))\n",
        "plt.title('Média exploratória de pessoas com menos de 30 e mais de 30 anos')\n",
        "plt.xlabel('Média')"
      ],
      "metadata": {
        "id": "tsrUZbopniEl"
      },
      "execution_count": null,
      "outputs": []
    },
    {
      "cell_type": "code",
      "source": [
        "# Insights por gênero\n",
        "# A partir deste conjunto de dados, como está a duração do sono entre homens?\n",
        "\n",
        "sleep_duration_mens = df.loc[df['Gender'] == 'Male', 'Sleep Duration']\n",
        "\n",
        "sdmdescribe = sleep_duration_mens.describe()\n",
        "sdmdescribe = sdmdescribe.T\n",
        "sdmdescribe = sdmdescribe.drop('count')\n",
        "intervalos = [0, 0.5, 1, 1.5, 2, 2.5, 3, 3.5, 4, 4.5, 5, 5.5, 6, 6.5,\n",
        "              7, 7.5, 8, 8.5]\n",
        "rotulos = [str(intervalo) for intervalo in intervalos]\n",
        "plt.yticks(intervalos, rotulos)\n",
        "sdmdescribe.plot(kind='bar', color='gray', figsize=(7, 4))\n",
        "plt.title('Estatística da duração de sono dos homens (189)')\n",
        "plt.ylabel('Horas dormidas')\n",
        "plt.xlabel('Colunas')"
      ],
      "metadata": {
        "id": "GdYCLOqx_KVW"
      },
      "execution_count": null,
      "outputs": []
    },
    {
      "cell_type": "code",
      "source": [
        "# Como está a duração do sono entre mulheres?\n",
        "\n",
        "sleep_duration_female = df.loc[df['Gender'] == 'Female', 'Sleep Duration']\n",
        "sdfdescribe = sleep_duration_female.describe()\n",
        "sdfdescribe = sdfdescribe.T\n",
        "sdfdescribe = sdfdescribe.drop('count')\n",
        "intervalos = [0, 0.5, 1, 1.5, 2, 2.5, 3, 3.5, 4, 4.5, 5, 5.5, 6, 6.5,\n",
        "              7, 7.5, 8, 8.5]\n",
        "rotulos = [str(intervalo) for intervalo in intervalos]\n",
        "plt.yticks(intervalos, rotulos)\n",
        "sdfdescribe.plot(kind='bar', color='darkblue', figsize=(7,4))\n",
        "plt.title('Estatística da duração de sono das mulheres (185)')\n",
        "plt.ylabel('Horas dormidas')\n",
        "plt.xlabel('Colunas')"
      ],
      "metadata": {
        "id": "dSwlnYo7LRdy"
      },
      "execution_count": null,
      "outputs": []
    },
    {
      "cell_type": "code",
      "source": [
        "# Como está qualidade de sono entre homens e mulheres?\n",
        "\n",
        "df.groupby('Gender')['Quality of Sleep'].mean().plot(kind='pie',\n",
        "                                                     figsize=(8,6))\n",
        "plt.title('Média da qualidade de sono entre homens e mulheres')"
      ],
      "metadata": {
        "id": "A23_7rI_bE43"
      },
      "execution_count": null,
      "outputs": []
    },
    {
      "cell_type": "code",
      "source": [
        "# Qual relação de Gênero com a média de Duração do Sono, Qualidade do Sono,\n",
        "#Nível de Atividade Física, e Nível de Stress?\n",
        "\n",
        "df.groupby('Gender')[['Sleep Duration', 'Quality of Sleep',\n",
        "                      'Physical Activity Level', 'Stress Level']].mean()"
      ],
      "metadata": {
        "id": "thTw2Gy5mdE4"
      },
      "execution_count": null,
      "outputs": []
    },
    {
      "cell_type": "code",
      "source": [
        "# Insights por profissão\n",
        "# De acordo com o dataset, qual a média de horas dormidas por profissão?\n",
        "df.groupby('Occupation')['Sleep Duration'].mean().plot(kind='barh',\n",
        "                                                       color='darkblue',\n",
        "                                                       figsize=(10,6))\n",
        "intervalos_x = [0, 0.5, 1, 1.5, 2, 2.5, 3, 3.5, 4, 4.5, 5, 5.5, 6, 6.5, 7, 7.5,\n",
        "                8, 8.5]\n",
        "rotulos_x = [str(intervalo) for intervalo in intervalos_x]\n",
        "plt.xticks(intervalos_x, rotulos_x)\n",
        "plt.xlabel('Média de horas dormidas')\n",
        "plt.ylabel('Ocupação')\n",
        "plt.title('Média de horas dormidas por profissão')"
      ],
      "metadata": {
        "id": "sRJhmNMyMsb3"
      },
      "execution_count": null,
      "outputs": []
    },
    {
      "cell_type": "code",
      "source": [
        "# De acordo com o dataset, como está qualidade de sono por profissões?\n",
        "\n",
        "df.groupby('Occupation')['Quality of Sleep'].mean().plot(kind='barh',\n",
        "                                                         color='orange',\n",
        "                                                         figsize=(10, 7))\n",
        "intervalos_x = [0, 0.5, 1, 1.5, 2, 2.5, 3, 3.5, 4, 4.5, 5, 5.5, 6, 6.5, 7, 7.5,\n",
        "                8, 8.5, 9]\n",
        "rotulos_x = [str(intervalo) for intervalo in intervalos_x]\n",
        "plt.xticks(intervalos_x, rotulos_x)\n",
        "plt.title('Média de qualidade de sono por profissões')\n",
        "plt.ylabel('Profissões')\n",
        "plt.xlabel('Média de qualidade de sono')"
      ],
      "metadata": {
        "id": "E93nNMCGcMDH"
      },
      "execution_count": null,
      "outputs": []
    },
    {
      "cell_type": "code",
      "source": [
        "# Insights por nível de atividade física\n",
        "# De acordo com o dataset, existe uma relação entre se exercitar e dormir bem?\n",
        "\n",
        "df.groupby('Physical Activity Level')['Stress Level'].mean().plot(\n",
        "    marker='o', color='darkgreen', figsize = (10,6)\n",
        ")\n",
        "plt.title('Média dos níveis de stress em relação à níveis de atividade física')\n",
        "plt.xlabel('Nível de Atividade Física')\n",
        "plt.ylabel('Média Nível de Stress')"
      ],
      "metadata": {
        "id": "qyObXYmFdMZT"
      },
      "execution_count": null,
      "outputs": []
    },
    {
      "cell_type": "code",
      "source": [
        "# Insights por distúrbio do sono\n",
        "# Qual relação entre distúrbios do sono e qualidade do sono?\n",
        "\n",
        "df.groupby('Sleep Disorder')['Quality of Sleep'].mean().plot(\n",
        "    kind='barh', color='darkred', figsize=(8,6)\n",
        ")\n",
        "plt.title('Média da qualidade de sono em relação à distúrbios do sono')\n",
        "plt.ylabel('Média da qualidade de sono')\n",
        "plt.xlabel('Distúrbios do sono')"
      ],
      "metadata": {
        "id": "CDM3wvbZgnnO"
      },
      "execution_count": null,
      "outputs": []
    },
    {
      "cell_type": "code",
      "source": [
        "# Insights por Peso Corporal\n",
        "# De acordo com o dataset, qual relação do Peso Corporal com a Duração do sono,\n",
        "# Qualidade do sono e o Nível de stress?\n",
        "df.groupby('BMI Category')[['Sleep Duration', 'Quality of Sleep',\n",
        "                            'Stress Level']].mean()"
      ],
      "metadata": {
        "id": "1PCia2kjiA8d"
      },
      "execution_count": null,
      "outputs": []
    },
    {
      "cell_type": "code",
      "source": [
        "# Qual relação entre profissões e nível de atividade física?\n",
        "\n",
        "df.groupby('Occupation')['Physical Activity Level'].mean().plot(kind='barh',\n",
        "                                                    color='darkgreen')\n",
        "plt.title('Média do nível de atividade física entre profissões')\n",
        "plt.xlabel('Média do Nível de Atividade Física')\n",
        "plt.ylabel('Profissões')"
      ],
      "metadata": {
        "id": "x2jU8Kw6sMME"
      },
      "execution_count": null,
      "outputs": []
    }
  ]
}